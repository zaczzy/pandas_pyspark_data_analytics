{
 "cells": [
  {
   "cell_type": "code",
   "execution_count": 1,
   "metadata": {
    "collapsed": true,
    "deletable": true,
    "editable": true
   },
   "outputs": [],
   "source": [
    "from emrspark import *\n",
    "from pyspark.sql.types import *\n",
    "import pyspark.sql.functions as F\n",
    "conf.set(\"fs.s3n.awsAccessKeyId\",\"***\")\n",
    "conf.set(\"fs.s3n.awsSecretAccessKey\",\"***/RUQ\")\n",
    "spark = SparkSession.builder.config(conf=conf).appName('Graph HW3').getOrCreate()"
   ]
  },
  {
   "cell_type": "code",
   "execution_count": 2,
   "metadata": {
    "collapsed": false,
    "deletable": true,
    "editable": true
   },
   "outputs": [],
   "source": [
    "a2q_sdf = spark.read.format(\"com.databricks.spark.csv\").option(\"delimiter\", ' ') \\\n",
    "  .load(\"s3n://upenn-bigdataanalytics/data/sx-stackoverflow-a2q.txt\")"
   ]
  },
  {
   "cell_type": "code",
   "execution_count": 3,
   "metadata": {
    "collapsed": false,
    "deletable": true,
    "editable": true
   },
   "outputs": [
    {
     "name": "stdout",
     "output_type": "stream",
     "text": [
      "root\n",
      " |-- from_node: integer (nullable = true)\n",
      " |-- to_node: integer (nullable = true)\n",
      "\n"
     ]
    }
   ],
   "source": [
    "graph_sdf = a2q_sdf.selectExpr(\"cast(_c0 as integer) as from_node\", \"cast(_c1 as integer) as to_node\")\n",
    "\n",
    "graph_sdf.printSchema()"
   ]
  },
  {
   "cell_type": "code",
   "execution_count": 4,
   "metadata": {
    "collapsed": true,
    "deletable": true,
    "editable": true
   },
   "outputs": [],
   "source": [
    "c2q_sdf = spark.read.format(\"com.databricks.spark.csv\").option(\"delimiter\", ' ') \\\n",
    "  .load(\"s3n://upenn-bigdataanalytics/data/sx-stackoverflow-c2q.txt\")"
   ]
  },
  {
   "cell_type": "code",
   "execution_count": 5,
   "metadata": {
    "collapsed": true,
    "deletable": true,
    "editable": true
   },
   "outputs": [],
   "source": [
    "c2q_sdf = c2q_sdf.selectExpr(\"cast(_c0 as integer) as from_node\", \"cast(_c1 as integer) as to_node\")"
   ]
  },
  {
   "cell_type": "code",
   "execution_count": 6,
   "metadata": {
    "collapsed": true,
    "deletable": true,
    "editable": true
   },
   "outputs": [],
   "source": [
    "graph_sdf = graph_sdf.unionAll(c2q_sdf)"
   ]
  },
  {
   "cell_type": "code",
   "execution_count": 7,
   "metadata": {
    "collapsed": true,
    "deletable": true,
    "editable": true
   },
   "outputs": [],
   "source": [
    "c2a_sdf = spark.read.format(\"com.databricks.spark.csv\").option(\"delimiter\", ' ') \\\n",
    "  .load(\"s3n://upenn-bigdataanalytics/data/sx-stackoverflow-c2a.txt\")"
   ]
  },
  {
   "cell_type": "code",
   "execution_count": 8,
   "metadata": {
    "collapsed": false,
    "deletable": true,
    "editable": true
   },
   "outputs": [],
   "source": [
    "c2a_sdf = c2a_sdf.selectExpr(\"cast(_c0 as integer) as from_node\", \"cast(_c1 as integer) as to_node\")"
   ]
  },
  {
   "cell_type": "code",
   "execution_count": 9,
   "metadata": {
    "collapsed": true,
    "deletable": true,
    "editable": true
   },
   "outputs": [],
   "source": [
    "graph_sdf = graph_sdf.unionAll(c2a_sdf)"
   ]
  },
  {
   "cell_type": "code",
   "execution_count": 10,
   "metadata": {
    "collapsed": false,
    "deletable": true,
    "editable": true
   },
   "outputs": [],
   "source": [
    "def transitive_closure(graph_sdf, origins_sdf, depth):\n",
    "    graph_sdf.repartition(100, \"from_node\")\n",
    "    graph_sdf.createOrReplaceTempView(\"graph_sdf\")\n",
    "    frontier_sdf = origins_sdf\n",
    "    results_sdf = origins_sdf\n",
    "    for _ in range(depth):\n",
    "        frontier_sdf.createOrReplaceTempView(\"frontier_sdf\")\n",
    "        frontier_sdf = spark.sql(\"select graph_sdf.to_node as node \\\n",
    "                                  from frontier_sdf inner join graph_sdf \\\n",
    "                                  where graph_sdf.from_node = frontier_sdf.node\").cache()\n",
    "        frontier_sdf = frontier_sdf.subtract(results_sdf)\n",
    "        if (not sdf_is_empty(frontier_sdf)):\n",
    "            results_sdf = results_sdf.unionAll(frontier_sdf)\n",
    "    return results_sdf\n",
    "\n",
    "def sdf_is_empty(sdf):\n",
    "    try:\n",
    "        sdf.take(1)\n",
    "        return False\n",
    "    except:\n",
    "        return True"
   ]
  },
  {
   "cell_type": "code",
   "execution_count": 11,
   "metadata": {
    "collapsed": false,
    "deletable": true,
    "editable": true
   },
   "outputs": [],
   "source": [
    "def transitive_closure(graph_sdf, origins_sdf, depth):\n",
    "    graph_sdf.repartition(100, \"from_node\")\n",
    "    graph_sdf.createOrReplaceTempView(\"graph_sdf\")\n",
    "    frontier_sdf = origins_sdf\n",
    "    results_sdf = origins_sdf\n",
    "    for _ in range(depth):\n",
    "        frontier_sdf.createOrReplaceTempView(\"frontier_sdf\")\n",
    "        frontier_sdf = spark.sql(\"select graph_sdf.to_node as node \\\n",
    "                                  from frontier_sdf inner join graph_sdf \\\n",
    "                                  where graph_sdf.from_node = frontier_sdf.node\").cache()\n",
    "        frontier_sdf = frontier_sdf.subtract(results_sdf)\n",
    "        if (not sdf_is_empty(frontier_sdf)):\n",
    "            results_sdf = results_sdf.unionAll(frontier_sdf)\n",
    "    return results_sdf\n",
    "\n",
    "def sdf_is_empty(sdf):\n",
    "    try:\n",
    "        sdf.take(1)\n",
    "        return False\n",
    "    except:\n",
    "        return True"
   ]
  },
  {
   "cell_type": "markdown",
   "metadata": {
    "deletable": true,
    "editable": true
   },
   "source": [
    "## Step 2.3"
   ]
  },
  {
   "cell_type": "code",
   "execution_count": 12,
   "metadata": {
    "collapsed": false,
    "deletable": true,
    "editable": true
   },
   "outputs": [],
   "source": [
    "graph_sdf.repartition(100, \"from_node\")\n",
    "graph_sdf.createOrReplaceTempView(\"graph_sdf\")\n",
    "nodes_raw_sdf = spark.sql(\"select from_node as node1, to_node as node2 from graph_sdf where from_node < 8 or to_node < 8\").cache()\n",
    "nodes_raw_sdf.createOrReplaceTempView('nodes_raw_sdf')\n",
    "nodes_sdf = spark.sql('select node1 as node from nodes_raw_sdf').union(spark.sql('select node2 as node from nodes_raw_sdf')).cache()\n",
    "nodes_sdf = nodes_sdf.drop_duplicates(subset=[\"node\"])\n",
    "nodes_sdf = nodes_sdf[nodes_sdf['node'] < 8]"
   ]
  },
  {
   "cell_type": "code",
   "execution_count": 16,
   "metadata": {
    "collapsed": false,
    "deletable": true,
    "editable": true
   },
   "outputs": [],
   "source": [
    "reachable_sdf = transitive_closure(graph_sdf, nodes_sdf, 3)"
   ]
  },
  {
   "cell_type": "code",
   "execution_count": 17,
   "metadata": {
    "collapsed": false,
    "deletable": true,
    "editable": true
   },
   "outputs": [
    {
     "data": {
      "text/plain": [
       "1905104"
      ]
     },
     "execution_count": 17,
     "metadata": {},
     "output_type": "execute_result"
    }
   ],
   "source": [
    "reachable_sdf.count()"
   ]
  },
  {
   "cell_type": "code",
   "execution_count": 18,
   "metadata": {
    "collapsed": false,
    "deletable": true,
    "editable": true
   },
   "outputs": [
    {
     "name": "stdout",
     "output_type": "stream",
     "text": [
      "+------+\n",
      "|  node|\n",
      "+------+\n",
      "|     1|\n",
      "|     3|\n",
      "|     5|\n",
      "|     4|\n",
      "|     2|\n",
      "| 17389|\n",
      "|179115|\n",
      "|408870|\n",
      "|  4219|\n",
      "| 36706|\n",
      "| 30183|\n",
      "|   392|\n",
      "| 42348|\n",
      "|738811|\n",
      "|269578|\n",
      "|  3488|\n",
      "| 42754|\n",
      "| 33690|\n",
      "|113570|\n",
      "| 17712|\n",
      "+------+\n",
      "only showing top 20 rows\n",
      "\n"
     ]
    }
   ],
   "source": [
    "reachable_sdf.show()"
   ]
  },
  {
   "cell_type": "code",
   "execution_count": null,
   "metadata": {
    "collapsed": true,
    "deletable": true,
    "editable": true
   },
   "outputs": [],
   "source": []
  },
  {
   "cell_type": "code",
   "execution_count": null,
   "metadata": {
    "collapsed": true,
    "deletable": true,
    "editable": true
   },
   "outputs": [],
   "source": []
  }
 ],
 "metadata": {
  "kernelspec": {
   "display_name": "Python 3",
   "language": "python",
   "name": "python3"
  },
  "language_info": {
   "codemirror_mode": {
    "name": "ipython",
    "version": 3
   },
   "file_extension": ".py",
   "mimetype": "text/x-python",
   "name": "python",
   "nbconvert_exporter": "python",
   "pygments_lexer": "ipython3",
   "version": "3.5.2"
  }
 },
 "nbformat": 4,
 "nbformat_minor": 2
}
