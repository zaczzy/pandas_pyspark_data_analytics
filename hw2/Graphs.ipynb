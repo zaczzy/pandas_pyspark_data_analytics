{
 "cells": [
  {
   "cell_type": "code",
   "execution_count": 1,
   "metadata": {
    "collapsed": false
   },
   "outputs": [],
   "source": [
    "from pyspark.sql import SparkSession\n",
    "\n",
    "from pyspark.sql.types import *\n",
    "\n",
    "import pyspark.sql.functions as F\n",
    "\n",
    "spark = SparkSession.builder.appName('Graphs-HW2').getOrCreate()"
   ]
  },
  {
   "cell_type": "code",
   "execution_count": 2,
   "metadata": {
    "collapsed": false
   },
   "outputs": [],
   "source": [
    "# Read lines from the text file\n",
    "\n",
    "answers_sdf = spark.read.load('sx-stackoverflow-a2q.txt', format=\"text\")\n",
    "comments_answers_sdf = spark.read.load('sx-stackoverflow-c2a.txt', format=\"text\")\n",
    "comments_questions_sdf = spark.read.load('sx-stackoverflow-c2q.txt', format=\"text\")"
   ]
  },
  {
   "cell_type": "markdown",
   "metadata": {
    "collapsed": true
   },
   "source": [
    "## Step 2.2"
   ]
  },
  {
   "cell_type": "code",
   "execution_count": 3,
   "metadata": {
    "collapsed": false
   },
   "outputs": [
    {
     "data": {
      "text/plain": [
       "17823525"
      ]
     },
     "execution_count": 3,
     "metadata": {},
     "output_type": "execute_result"
    }
   ],
   "source": [
    "answers_sdf.count()"
   ]
  },
  {
   "cell_type": "code",
   "execution_count": 4,
   "metadata": {
    "collapsed": false
   },
   "outputs": [
    {
     "name": "stdout",
     "output_type": "stream",
     "text": [
      "+----------------+\n",
      "|           value|\n",
      "+----------------+\n",
      "|  9 8 1217567877|\n",
      "|  1 1 1217573801|\n",
      "| 13 1 1217606247|\n",
      "| 17 1 1217617639|\n",
      "| 48 2 1217618182|\n",
      "| 17 1 1217618239|\n",
      "| 19 9 1217618357|\n",
      "|13 23 1217618560|\n",
      "|13 11 1217618799|\n",
      "|23 23 1217619360|\n",
      "+----------------+\n",
      "only showing top 10 rows\n",
      "\n"
     ]
    }
   ],
   "source": [
    "answers_sdf.show(10)"
   ]
  },
  {
   "cell_type": "code",
   "execution_count": 5,
   "metadata": {
    "collapsed": false
   },
   "outputs": [
    {
     "name": "stdout",
     "output_type": "stream",
     "text": [
      "root\n",
      " |-- value: string (nullable = true)\n",
      "\n"
     ]
    }
   ],
   "source": [
    "answers_sdf.printSchema()"
   ]
  },
  {
   "cell_type": "code",
   "execution_count": 6,
   "metadata": {
    "collapsed": false
   },
   "outputs": [
    {
     "data": {
      "text/plain": [
       "25405374"
      ]
     },
     "execution_count": 6,
     "metadata": {},
     "output_type": "execute_result"
    }
   ],
   "source": [
    "comments_answers_sdf.count()"
   ]
  },
  {
   "cell_type": "code",
   "execution_count": 7,
   "metadata": {
    "collapsed": false
   },
   "outputs": [
    {
     "name": "stdout",
     "output_type": "stream",
     "text": [
      "+--------------------+\n",
      "|               value|\n",
      "+--------------------+\n",
      "|     1 91 1220713630|\n",
      "|     3 91 1220713792|\n",
      "|  380 350 1220715736|\n",
      "|4642 2257 1220734307|\n",
      "|4642 1324220 1220...|\n",
      "|2495 4285 1220736640|\n",
      "|4642 4893 1220737355|\n",
      "|2515 4903 1220738560|\n",
      "|2515 4893 1220739071|\n",
      "|  199 199 1220741079|\n",
      "+--------------------+\n",
      "only showing top 10 rows\n",
      "\n"
     ]
    }
   ],
   "source": [
    "comments_answers_sdf.show(10)"
   ]
  },
  {
   "cell_type": "code",
   "execution_count": 8,
   "metadata": {
    "collapsed": false
   },
   "outputs": [
    {
     "name": "stdout",
     "output_type": "stream",
     "text": [
      "root\n",
      " |-- value: string (nullable = true)\n",
      "\n"
     ]
    }
   ],
   "source": [
    "comments_answers_sdf.printSchema()"
   ]
  },
  {
   "cell_type": "code",
   "execution_count": 9,
   "metadata": {
    "collapsed": false
   },
   "outputs": [
    {
     "data": {
      "text/plain": [
       "20268151"
      ]
     },
     "execution_count": 9,
     "metadata": {},
     "output_type": "execute_result"
    }
   ],
   "source": [
    "comments_questions_sdf.count()"
   ]
  },
  {
   "cell_type": "code",
   "execution_count": 10,
   "metadata": {
    "collapsed": false
   },
   "outputs": [
    {
     "name": "stdout",
     "output_type": "stream",
     "text": [
      "+--------------------+\n",
      "|               value|\n",
      "+--------------------+\n",
      "|4550 4550 1220729190|\n",
      "|  242 184 1220733503|\n",
      "|4213 4946 1220768149|\n",
      "|    91 91 1220768295|\n",
      "|2658 1874 1220771891|\n",
      "|4035 1874 1220773037|\n",
      "|2257 4489 1220802041|\n",
      "|  577 577 1220834891|\n",
      "|4489 4489 1220853536|\n",
      "| 828 2783 1220854143|\n",
      "+--------------------+\n",
      "only showing top 10 rows\n",
      "\n"
     ]
    }
   ],
   "source": [
    "comments_questions_sdf.show(10)"
   ]
  },
  {
   "cell_type": "code",
   "execution_count": 11,
   "metadata": {
    "collapsed": false
   },
   "outputs": [
    {
     "name": "stdout",
     "output_type": "stream",
     "text": [
      "root\n",
      " |-- value: string (nullable = true)\n",
      "\n"
     ]
    }
   ],
   "source": [
    "comments_questions_sdf.printSchema()"
   ]
  },
  {
   "cell_type": "code",
   "execution_count": 12,
   "metadata": {
    "collapsed": false
   },
   "outputs": [],
   "source": [
    "answers_sdf.createOrReplaceTempView('answers_view')\n",
    "answers_sdf = spark.sql('''SELECT CAST(split(value, \" \")[0] AS integer) AS from_node,\n",
    "                                  CAST(split(value, \" \")[1] AS integer) AS to_node,\n",
    "                                  split(value, \" \")[2] AS timestamp,\n",
    "                                  \"answer\" AS edge_type FROM answers_view''')\n",
    "answers_sdf = answers_sdf.select('from_node','to_node', F.from_unixtime(answers_sdf.timestamp, \"YYYY:MM:dd hh:mm:ss\").alias(\"timestamp\"), 'edge_type')"
   ]
  },
  {
   "cell_type": "code",
   "execution_count": 13,
   "metadata": {
    "collapsed": false
   },
   "outputs": [],
   "source": [
    "comments_answers_sdf.createOrReplaceTempView('comments_answers_view')\n",
    "comments_answers_sdf = spark.sql('''SELECT CAST(split(value, \" \")[0] AS integer) AS from_node,\n",
    "                                  CAST(split(value, \" \")[1] AS integer) AS to_node,\n",
    "                                  split(value, \" \")[2] AS timestamp,\n",
    "                                  \"comment-on-answer\" AS edge_type FROM comments_answers_view''')\n",
    "comments_answers_sdf = comments_answers_sdf.select('from_node','to_node', F.from_unixtime(comments_answers_sdf.timestamp, \"YYYY:MM:dd hh:mm:ss\").alias(\"timestamp\"), 'edge_type')"
   ]
  },
  {
   "cell_type": "code",
   "execution_count": 14,
   "metadata": {
    "collapsed": false
   },
   "outputs": [],
   "source": [
    "comments_questions_sdf.createOrReplaceTempView('comments_questions_view')\n",
    "comments_questions_sdf = spark.sql('''SELECT CAST(split(value, \" \")[0] AS integer) AS from_node,\n",
    "                                  CAST(split(value, \" \")[1] AS integer) AS to_node,\n",
    "                                  split(value, \" \")[2] AS timestamp,\n",
    "                                  \"comment-on-question\" AS edge_type FROM comments_questions_view''')\n",
    "comments_questions_sdf = comments_questions_sdf.select('from_node','to_node', F.from_unixtime(comments_questions_sdf.timestamp, \"YYYY:MM:dd hh:mm:ss\").alias(\"timestamp\"), 'edge_type')"
   ]
  },
  {
   "cell_type": "code",
   "execution_count": 15,
   "metadata": {
    "collapsed": false
   },
   "outputs": [],
   "source": [
    "graph_sdf = answers_sdf.unionAll(comments_questions_sdf).unionAll(comments_answers_sdf)"
   ]
  },
  {
   "cell_type": "markdown",
   "metadata": {},
   "source": [
    "## Step 2.3"
   ]
  },
  {
   "cell_type": "code",
   "execution_count": 16,
   "metadata": {
    "collapsed": false
   },
   "outputs": [
    {
     "data": {
      "text/plain": [
       "17823525"
      ]
     },
     "execution_count": 16,
     "metadata": {},
     "output_type": "execute_result"
    }
   ],
   "source": [
    "answers_sdf.count()"
   ]
  },
  {
   "cell_type": "code",
   "execution_count": 17,
   "metadata": {
    "collapsed": false
   },
   "outputs": [
    {
     "name": "stdout",
     "output_type": "stream",
     "text": [
      "+---------+-------+-------------------+---------+\n",
      "|from_node|to_node|          timestamp|edge_type|\n",
      "+---------+-------+-------------------+---------+\n",
      "|        9|      8|2008:08:01 05:17:57|   answer|\n",
      "|        1|      1|2008:08:01 06:56:41|   answer|\n",
      "|       13|      1|2008:08:01 03:57:27|   answer|\n",
      "|       17|      1|2008:08:01 07:07:19|   answer|\n",
      "|       48|      2|2008:08:01 07:16:22|   answer|\n",
      "+---------+-------+-------------------+---------+\n",
      "only showing top 5 rows\n",
      "\n"
     ]
    }
   ],
   "source": [
    "answers_sdf.show(5)"
   ]
  },
  {
   "cell_type": "code",
   "execution_count": 18,
   "metadata": {
    "collapsed": false
   },
   "outputs": [
    {
     "name": "stdout",
     "output_type": "stream",
     "text": [
      "root\n",
      " |-- from_node: integer (nullable = true)\n",
      " |-- to_node: integer (nullable = true)\n",
      " |-- timestamp: string (nullable = true)\n",
      " |-- edge_type: string (nullable = false)\n",
      "\n"
     ]
    }
   ],
   "source": [
    "answers_sdf.printSchema()"
   ]
  },
  {
   "cell_type": "code",
   "execution_count": 19,
   "metadata": {
    "collapsed": false
   },
   "outputs": [
    {
     "data": {
      "text/plain": [
       "25405374"
      ]
     },
     "execution_count": 19,
     "metadata": {},
     "output_type": "execute_result"
    }
   ],
   "source": [
    "comments_answers_sdf.count()"
   ]
  },
  {
   "cell_type": "code",
   "execution_count": 20,
   "metadata": {
    "collapsed": false
   },
   "outputs": [
    {
     "name": "stdout",
     "output_type": "stream",
     "text": [
      "+---------+-------+-------------------+-----------------+\n",
      "|from_node|to_node|          timestamp|        edge_type|\n",
      "+---------+-------+-------------------+-----------------+\n",
      "|        1|     91|2008:09:06 03:07:10|comment-on-answer|\n",
      "|        3|     91|2008:09:06 03:09:52|comment-on-answer|\n",
      "|      380|    350|2008:09:06 03:42:16|comment-on-answer|\n",
      "|     4642|   2257|2008:09:06 08:51:47|comment-on-answer|\n",
      "|     4642|1324220|2008:09:06 09:15:46|comment-on-answer|\n",
      "+---------+-------+-------------------+-----------------+\n",
      "only showing top 5 rows\n",
      "\n"
     ]
    }
   ],
   "source": [
    "comments_answers_sdf.show(5)"
   ]
  },
  {
   "cell_type": "code",
   "execution_count": 21,
   "metadata": {
    "collapsed": false
   },
   "outputs": [
    {
     "name": "stdout",
     "output_type": "stream",
     "text": [
      "root\n",
      " |-- from_node: integer (nullable = true)\n",
      " |-- to_node: integer (nullable = true)\n",
      " |-- timestamp: string (nullable = true)\n",
      " |-- edge_type: string (nullable = false)\n",
      "\n"
     ]
    }
   ],
   "source": [
    "comments_answers_sdf.printSchema()"
   ]
  },
  {
   "cell_type": "code",
   "execution_count": 22,
   "metadata": {
    "collapsed": false
   },
   "outputs": [
    {
     "data": {
      "text/plain": [
       "20268151"
      ]
     },
     "execution_count": 22,
     "metadata": {},
     "output_type": "execute_result"
    }
   ],
   "source": [
    "comments_questions_sdf.count()"
   ]
  },
  {
   "cell_type": "code",
   "execution_count": 23,
   "metadata": {
    "collapsed": false
   },
   "outputs": [
    {
     "name": "stdout",
     "output_type": "stream",
     "text": [
      "+---------+-------+-------------------+-------------------+\n",
      "|from_node|to_node|          timestamp|          edge_type|\n",
      "+---------+-------+-------------------+-------------------+\n",
      "|     4550|   4550|2008:09:06 07:26:30|comment-on-question|\n",
      "|      242|    184|2008:09:06 08:38:23|comment-on-question|\n",
      "|     4213|   4946|2008:09:07 06:15:49|comment-on-question|\n",
      "|       91|     91|2008:09:07 06:18:15|comment-on-question|\n",
      "|     2658|   1874|2008:09:07 07:18:11|comment-on-question|\n",
      "+---------+-------+-------------------+-------------------+\n",
      "only showing top 5 rows\n",
      "\n"
     ]
    }
   ],
   "source": [
    "comments_questions_sdf.show(5)"
   ]
  },
  {
   "cell_type": "code",
   "execution_count": 24,
   "metadata": {
    "collapsed": false
   },
   "outputs": [
    {
     "name": "stdout",
     "output_type": "stream",
     "text": [
      "root\n",
      " |-- from_node: integer (nullable = true)\n",
      " |-- to_node: integer (nullable = true)\n",
      " |-- timestamp: string (nullable = true)\n",
      " |-- edge_type: string (nullable = false)\n",
      "\n"
     ]
    }
   ],
   "source": [
    "comments_questions_sdf.printSchema()"
   ]
  },
  {
   "cell_type": "code",
   "execution_count": 25,
   "metadata": {
    "collapsed": false
   },
   "outputs": [
    {
     "data": {
      "text/plain": [
       "63497050"
      ]
     },
     "execution_count": 25,
     "metadata": {},
     "output_type": "execute_result"
    }
   ],
   "source": [
    "graph_sdf.count()"
   ]
  },
  {
   "cell_type": "code",
   "execution_count": 26,
   "metadata": {
    "collapsed": false
   },
   "outputs": [
    {
     "name": "stdout",
     "output_type": "stream",
     "text": [
      "+---------+-------+-------------------+---------+\n",
      "|from_node|to_node|          timestamp|edge_type|\n",
      "+---------+-------+-------------------+---------+\n",
      "|        9|      8|2008:08:01 05:17:57|   answer|\n",
      "|        1|      1|2008:08:01 06:56:41|   answer|\n",
      "|       13|      1|2008:08:01 03:57:27|   answer|\n",
      "|       17|      1|2008:08:01 07:07:19|   answer|\n",
      "|       48|      2|2008:08:01 07:16:22|   answer|\n",
      "+---------+-------+-------------------+---------+\n",
      "only showing top 5 rows\n",
      "\n"
     ]
    }
   ],
   "source": [
    "graph_sdf.show(5)"
   ]
  },
  {
   "cell_type": "code",
   "execution_count": 27,
   "metadata": {
    "collapsed": false
   },
   "outputs": [
    {
     "name": "stdout",
     "output_type": "stream",
     "text": [
      "root\n",
      " |-- from_node: integer (nullable = true)\n",
      " |-- to_node: integer (nullable = true)\n",
      " |-- timestamp: string (nullable = true)\n",
      " |-- edge_type: string (nullable = false)\n",
      "\n"
     ]
    }
   ],
   "source": [
    "graph_sdf.printSchema()"
   ]
  },
  {
   "cell_type": "code",
   "execution_count": 28,
   "metadata": {
    "collapsed": true
   },
   "outputs": [],
   "source": [
    "graph_sdf.createOrReplaceTempView('graph_view')\n",
    "highest_indegree = spark.sql('''SELECT to_node AS node, count(from_node) AS indegree\n",
    "                                FROM graph_view\n",
    "                                GROUP BY to_node\n",
    "                                ORDER BY count(from_node) desc\n",
    "                                ''')\n",
    "highest_outdegree = spark.sql('''SELECT from_node AS node, count(to_node) AS outdegree\n",
    "                                FROM graph_view\n",
    "                                GROUP BY from_node\n",
    "                                ORDER BY count(to_node) desc\n",
    "                                ''')"
   ]
  },
  {
   "cell_type": "markdown",
   "metadata": {},
   "source": [
    "## Step 3"
   ]
  },
  {
   "cell_type": "code",
   "execution_count": 29,
   "metadata": {
    "collapsed": false
   },
   "outputs": [
    {
     "name": "stdout",
     "output_type": "stream",
     "text": [
      "+-------+--------+\n",
      "|   node|indegree|\n",
      "+-------+--------+\n",
      "|  22656|   93143|\n",
      "| 548225|   54410|\n",
      "|  29407|   45824|\n",
      "| 157882|   39576|\n",
      "|1144035|   38909|\n",
      "+-------+--------+\n",
      "only showing top 5 rows\n",
      "\n"
     ]
    }
   ],
   "source": [
    "highest_indegree.show(5)"
   ]
  },
  {
   "cell_type": "code",
   "execution_count": 30,
   "metadata": {
    "collapsed": false
   },
   "outputs": [
    {
     "name": "stdout",
     "output_type": "stream",
     "text": [
      "+-------+---------+\n",
      "|   node|outdegree|\n",
      "+-------+---------+\n",
      "|  22656|   101663|\n",
      "| 505088|    65522|\n",
      "|  17034|    65260|\n",
      "|1491895|    62746|\n",
      "| 100297|    54330|\n",
      "+-------+---------+\n",
      "only showing top 5 rows\n",
      "\n"
     ]
    }
   ],
   "source": [
    "highest_outdegree.show(5)"
   ]
  },
  {
   "cell_type": "code",
   "execution_count": 31,
   "metadata": {
    "collapsed": false
   },
   "outputs": [],
   "source": [
    "def spark_bfs(G, origins, max_depth):\n",
    "    schema = StructType([StructField('node', IntegerType(), True)])\n",
    "    result = spark.createDataFrame(origins, schema).withColumn('depth', F.lit(0))\n",
    "    \n",
    "    G.createOrReplaceTempView('graph')\n",
    "    visited_sdf = spark.createDataFrame(origins, schema)\n",
    "    visited_sdf.createOrReplaceTempView('visited')\n",
    "    \n",
    "    frontier_dup_sdf= spark.sql('''SELECT g.to_node AS node\n",
    "                                FROM visited v INNER JOIN graph g\n",
    "                                ON g.from_node = v.node\n",
    "                             ''').cache()\n",
    "    \n",
    "    frontier_dup_sdf = frontier_dup_sdf.join(visited_sdf, frontier_dup_sdf.node == visited_sdf.node, 'leftanti')\n",
    "    \n",
    "    result = result.unionAll(frontier_dup_sdf.withColumn('depth', F.lit(1)))\n",
    "    frontier_sdf = frontier_dup_sdf.distinct()\n",
    "    visited_sdf = visited_sdf.unionAll(frontier_sdf)\n",
    "    \n",
    "    for i in range(2, max_depth + 1):\n",
    "        frontier_sdf.createOrReplaceTempView('frontier')\n",
    "        frontier_dup_sdf = spark.sql('''SELECT g.to_node AS node\n",
    "                                 FROM frontier f INNER JOIN graph g\n",
    "                                 ON g.from_node = f.node''').cache()\n",
    "        frontier_dup_sdf = frontier_dup_sdf.join(visited_sdf, frontier_dup_sdf.node == visited_sdf.node, 'leftanti')\n",
    "        result = result.unionAll(frontier_dup_sdf.withColumn('depth', F.lit(i)))\n",
    "        frontier_sdf = frontier_dup_sdf.distinct()\n",
    "        visited_sdf = visited_sdf.unionAll(frontier_sdf)\n",
    "    return result"
   ]
  },
  {
   "cell_type": "markdown",
   "metadata": {
    "collapsed": true
   },
   "source": [
    "## Step 4.1"
   ]
  },
  {
   "cell_type": "code",
   "execution_count": 32,
   "metadata": {
    "collapsed": false
   },
   "outputs": [],
   "source": [
    "bfs_sdf = spark_bfs(comments_questions_sdf, [{'node': 4550}, {'node': 242}], 2)"
   ]
  },
  {
   "cell_type": "code",
   "execution_count": 33,
   "metadata": {
    "collapsed": false
   },
   "outputs": [
    {
     "data": {
      "text/plain": [
       "396"
      ]
     },
     "execution_count": 33,
     "metadata": {},
     "output_type": "execute_result"
    }
   ],
   "source": [
    "bfs_sdf.count()"
   ]
  },
  {
   "cell_type": "code",
   "execution_count": 34,
   "metadata": {
    "collapsed": false
   },
   "outputs": [
    {
     "name": "stdout",
     "output_type": "stream",
     "text": [
      "+-------+-----+\n",
      "|   node|depth|\n",
      "+-------+-----+\n",
      "|   4550|    0|\n",
      "|    242|    0|\n",
      "|1619254|    1|\n",
      "|2332659|    1|\n",
      "|5504881|    1|\n",
      "|1139389|    1|\n",
      "|1940564|    1|\n",
      "| 818089|    1|\n",
      "|3047450|    1|\n",
      "|4773326|    1|\n",
      "|5070920|    1|\n",
      "|2495819|    1|\n",
      "|   1551|    1|\n",
      "| 602291|    1|\n",
      "| 451383|    1|\n",
      "|4569974|    1|\n",
      "| 633513|    1|\n",
      "|2705465|    1|\n",
      "|2605058|    1|\n",
      "|  67719|    1|\n",
      "+-------+-----+\n",
      "only showing top 20 rows\n",
      "\n"
     ]
    }
   ],
   "source": [
    "bfs_sdf.show()"
   ]
  },
  {
   "cell_type": "code",
   "execution_count": 35,
   "metadata": {
    "collapsed": false
   },
   "outputs": [
    {
     "data": {
      "text/plain": [
       "366"
      ]
     },
     "execution_count": 35,
     "metadata": {},
     "output_type": "execute_result"
    }
   ],
   "source": [
    "bfs_sdf[bfs_sdf['depth'] == 2].count()"
   ]
  },
  {
   "cell_type": "code",
   "execution_count": 36,
   "metadata": {
    "collapsed": false
   },
   "outputs": [
    {
     "data": {
      "text/plain": [
       "42"
      ]
     },
     "execution_count": 36,
     "metadata": {},
     "output_type": "execute_result"
    }
   ],
   "source": [
    "filtered_bfs_sdf = bfs_sdf[bfs_sdf['depth'] == 2]\n",
    "filtered_bfs_sdf.createOrReplaceTempView('subgraph')\n",
    "filtered_bfs_sdf = spark.sql('''SELECT node, count(*)\n",
    "                                FROM subgraph \n",
    "                                GROUP BY node\n",
    "                                HAVING count(*) > 1''')\n",
    "filtered_bfs_sdf.count()"
   ]
  },
  {
   "cell_type": "code",
   "execution_count": null,
   "metadata": {
    "collapsed": false
   },
   "outputs": [
    {
     "name": "stdout",
     "output_type": "stream",
     "text": [
      "1722\n",
      "1721\n"
     ]
    }
   ],
   "source": [
    "def friend_rec(filtered_bfs_sdf, graph_sdf):\n",
    "    filtered_bfs_sdf.createOrReplaceTempView('duplicate')\n",
    "    \n",
    "    duplicate_copy_sdf = spark.sql('SELECT * FROM duplicate')\n",
    "    duplicate_copy_sdf.createOrReplaceTempView('copy')\n",
    "    product_sdf = spark.sql('SELECT duplicate.node AS from_node, copy.node AS to_node \\\n",
    "                             FROM duplicate CROSS JOIN copy').cache()\n",
    "    product_sdf = product_sdf[product_sdf['from_node'] != product_sdf['to_node']]\n",
    "    product_sdf.createOrReplaceTempView('product')\n",
    "    print(product_sdf.count())\n",
    "    \n",
    "    graph_sdf.createOrReplaceTempView('graph')\n",
    "    product_sdf = spark.sql('SELECT p.from_node, p.to_node FROM product p \\\n",
    "                            EXCEPT SELECT g.from_node, g.to_node FROM graph g')\n",
    "    print(product_sdf.count())\n",
    "    product_sdf.createOrReplaceTempView('product')\n",
    "    product_sdf = spark.sql('SELECT p.to_node AS from_node, p.from_node AS to_node FROM product p \\\n",
    "                            EXCEPT SELECT g.from_node AS from_node, g.to_node AS to_node FROM graph g')\n",
    "    print(product_sdf.count())\n",
    "    return product_sdf\n",
    "\n",
    "\n",
    "result = friend_rec(filtered_bfs_sdf, comments_questions_sdf)"
   ]
  },
  {
   "cell_type": "markdown",
   "metadata": {
    "collapsed": true
   },
   "source": [
    "## Step 4.2"
   ]
  },
  {
   "cell_type": "code",
   "execution_count": 55,
   "metadata": {
    "collapsed": false
   },
   "outputs": [
    {
     "data": {
      "text/plain": [
       "1721"
      ]
     },
     "execution_count": 55,
     "metadata": {},
     "output_type": "execute_result"
    }
   ],
   "source": [
    "result.count()"
   ]
  },
  {
   "cell_type": "code",
   "execution_count": 39,
   "metadata": {
    "collapsed": false
   },
   "outputs": [
    {
     "name": "stdout",
     "output_type": "stream",
     "text": [
      "+---------+-------+\n",
      "|from_node|to_node|\n",
      "+---------+-------+\n",
      "|    21918| 453447|\n",
      "|    21918|4204628|\n",
      "|    46646| 267679|\n",
      "|    59017|1187554|\n",
      "|   104015|  55503|\n",
      "|   211452|  59017|\n",
      "|   503032|2269511|\n",
      "|  1406214| 503032|\n",
      "|  2269511|  21918|\n",
      "|  3830157| 132640|\n",
      "|  4204628|  47550|\n",
      "|    46646|1127460|\n",
      "|    55503| 104015|\n",
      "|    60602|1187554|\n",
      "|   267679|1061543|\n",
      "|   393268| 318811|\n",
      "|  1218595|1187554|\n",
      "|  1218595|4800193|\n",
      "|    27483|  46646|\n",
      "|    63775|  46646|\n",
      "+---------+-------+\n",
      "only showing top 20 rows\n",
      "\n"
     ]
    }
   ],
   "source": [
    "result.show()"
   ]
  },
  {
   "cell_type": "code",
   "execution_count": null,
   "metadata": {
    "collapsed": false
   },
   "outputs": [],
   "source": [
    "\n"
   ]
  },
  {
   "cell_type": "code",
   "execution_count": null,
   "metadata": {
    "collapsed": true
   },
   "outputs": [],
   "source": []
  }
 ],
 "metadata": {
  "kernelspec": {
   "display_name": "Python 3",
   "language": "python",
   "name": "python3"
  },
  "language_info": {
   "codemirror_mode": {
    "name": "ipython",
    "version": 3
   },
   "file_extension": ".py",
   "mimetype": "text/x-python",
   "name": "python",
   "nbconvert_exporter": "python",
   "pygments_lexer": "ipython3",
   "version": "3.5.2"
  }
 },
 "nbformat": 4,
 "nbformat_minor": 2
}
