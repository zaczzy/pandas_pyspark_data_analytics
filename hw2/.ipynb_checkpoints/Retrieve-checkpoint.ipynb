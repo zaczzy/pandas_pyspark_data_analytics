{
 "cells": [
  {
   "cell_type": "markdown",
   "metadata": {},
   "source": [
    "# Homework 2 Setup"
   ]
  },
  {
   "cell_type": "code",
   "execution_count": null,
   "metadata": {
    "collapsed": false
   },
   "outputs": [
    {
     "name": "stdout",
     "output_type": "stream",
     "text": [
      "Downloading compressed image of sx-stackoverflow-a2q.txt\n",
      "Saved sx-stackoverflow-a2q.txt\n",
      "Downloading compressed image of sx-stackoverflow-c2q.txt\n"
     ]
    }
   ],
   "source": [
    "# Download and decompress data into your Jupyter environment\n",
    "\n",
    "import urllib.request\n",
    "import io\n",
    "import gzip\n",
    "\n",
    "\n",
    "for file in ['sx-stackoverflow-a2q.txt','sx-stackoverflow-c2q.txt','sx-stackoverflow-c2a.txt']:\n",
    "    print ('Downloading compressed image of', file)\n",
    "    source = urllib.request.urlopen(\"https://snap.stanford.edu/data/\" + file + \".gz\")\n",
    "    compressedFile = io.BytesIO(source.read())\n",
    "    decompressedFile = gzip.GzipFile(fileobj=compressedFile)\n",
    "\n",
    "    with open(file, 'wb') as outfile:\n",
    "        outfile.write(decompressedFile.read())\n",
    "        outfile.close()\n",
    "        print ('Saved', file)\n"
   ]
  }
 ],
 "metadata": {
  "kernelspec": {
   "display_name": "Python 3",
   "language": "python",
   "name": "python3"
  },
  "language_info": {
   "codemirror_mode": {
    "name": "ipython",
    "version": 3
   },
   "file_extension": ".py",
   "mimetype": "text/x-python",
   "name": "python",
   "nbconvert_exporter": "python",
   "pygments_lexer": "ipython3",
   "version": "3.5.2"
  }
 },
 "nbformat": 4,
 "nbformat_minor": 2
}
