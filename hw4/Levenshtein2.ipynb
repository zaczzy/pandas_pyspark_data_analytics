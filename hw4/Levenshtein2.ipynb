{
 "cells": [
  {
   "cell_type": "code",
   "execution_count": 1,
   "metadata": {
    "collapsed": false,
    "deletable": true,
    "editable": true
   },
   "outputs": [],
   "source": [
    "import numpy as np\n",
    "import pandas as pd\n",
    "map = {\n",
    "    'G':0,\n",
    "    'A':0,\n",
    "    'V':0,\n",
    "    'L':0,\n",
    "    'I':0,\n",
    "    'S':1,\n",
    "    'C':1,\n",
    "    'T':1,\n",
    "    'M':1,\n",
    "    'P':2,\n",
    "    'F':3,\n",
    "    'Y':3,\n",
    "    'W':3,\n",
    "    'H':4,\n",
    "    'K':4,\n",
    "    'R':4,\n",
    "    'D':5,\n",
    "    'E':5,\n",
    "    'N':5,\n",
    "    'Q':5\n",
    "}\n",
    "def replace(a1, a2):\n",
    "    global map\n",
    "    if a1 == a2:\n",
    "        return 0\n",
    "    if a1 == 'X' or a2 == 'X':\n",
    "        return 1\n",
    "    else:\n",
    "        return 1 if map[a1] == map[a2] else 2\n",
    "        \n",
    "def levenshtein(seq1, seq2):\n",
    "    if len(seq1) < len(seq2):\n",
    "        return levenshtein(seq2, seq1)\n",
    "\n",
    "    if len(seq2) == 0:\n",
    "        return len(seq1)\n",
    "    \n",
    "    memo = np.zeros((len(seq1) +1, len(seq2) + 1), np.int64)\n",
    "\n",
    "    memo[0] = range(len(seq2) + 1)\n",
    "    \n",
    "    for i, a1 in enumerate(seq1):\n",
    "        memo[i + 1, 0] = i + 1\n",
    "        for j, a2 in enumerate(seq2):\n",
    "            insertions = memo[i, j + 1] + 1\n",
    "            deletions = memo[i + 1, j] + 1\n",
    "            substitutions = memo[i, j] + replace(a1, a2)\n",
    "            memo[i + 1, j + 1] = min(insertions, deletions, substitutions)    \n",
    "    return memo[-1,-1]"
   ]
  },
  {
   "cell_type": "markdown",
   "metadata": {
    "deletable": true,
    "editable": true
   },
   "source": [
    "## Step 3.1"
   ]
  },
  {
   "cell_type": "code",
   "execution_count": 2,
   "metadata": {
    "collapsed": true,
    "deletable": true,
    "editable": true
   },
   "outputs": [],
   "source": [
    "seq1 = ['M','N','I','K','G','S','P','W','K','G','S','L','L','L','L','L','V','S','N','L','L',\n",
    "        'L','C','Q','S','V','A','P','L','P','I','C','P','G','G','A','A','R','C','Q','V','T',\n",
    "        'L','R','D','L','F','D','R','A','V','V','L','S','H','Y','I','H','N','L','S','S','E',\n",
    "        'M','F','S','E','F','D','K','R','Y','T','H','G','R','G','F','I','T','K','A','I','N',\n",
    "        'S','C','H','T','S','S','L','A','T','P','E','D','K','E','Q','A','Q','Q','M','N','Q',\n",
    "        'K','D','F','L','S','L','I','V','S','I','L','R','S','W','N','E','P','L','Y','H','L',\n",
    "        'V','T','E','V','R','G','M','Q','E','A','P','E','A','I','L','S','K','A','V','E','I',\n",
    "        'E','E','Q','T','K','R','L','L','E','G','M','E','L','I','V','S','Q','V','H','P','E',\n",
    "        'T','K','E','N','E','I','Y','P','V','W','S','G','L','P','S','L','Q','M','A','D','E',\n",
    "        'E','S','R','L','S','A','Y','Y','N','L','L','H','C','L','R','R','D','S','H','K','I',\n",
    "        'D','N','Y','L','K','L','L','K','C','R','I','I','H','N','N','N','C']\n",
    "seq2 = ['P','I','D','N','Y','L','K','L','L','K','C','R','I','I','H','N','N','N','C']"
   ]
  },
  {
   "cell_type": "code",
   "execution_count": 3,
   "metadata": {
    "collapsed": false,
    "deletable": true,
    "editable": true
   },
   "outputs": [
    {
     "data": {
      "text/plain": [
       "208"
      ]
     },
     "execution_count": 3,
     "metadata": {},
     "output_type": "execute_result"
    }
   ],
   "source": [
    "levenshtein(seq1, seq2)"
   ]
  },
  {
   "cell_type": "code",
   "execution_count": 4,
   "metadata": {
    "collapsed": false,
    "deletable": true,
    "editable": true
   },
   "outputs": [],
   "source": [
    "def output_k_homologs(reference_sequence, k):\n",
    "    proteins = open('proteins.fasta', 'r')\n",
    "    group = {}\n",
    "    read = False\n",
    "    seq = []\n",
    "    key = ''\n",
    "    for line in proteins:\n",
    "        if line[0] == '>':\n",
    "            read = True\n",
    "            seq = []\n",
    "            key = line[line.index('[')+1:line.index(']')]\n",
    "        elif line == '\\n':\n",
    "            read = False\n",
    "            group[key] = seq\n",
    "        elif read:\n",
    "            seq.extend(list(line[:-2]))\n",
    "    group[key] = seq\n",
    "    \n",
    "    for name in group:\n",
    "        group[name] = levenshtein(reference_sequence, group[name])\n",
    "    homologs_df = pd.DataFrame([[key,value] for key,value in group.items()],columns=['proteinName','levenshteinDistance'])\n",
    "    return homologs_df.sort_values(by = ['levenshteinDistance'])[:k]"
   ]
  },
  {
   "cell_type": "code",
   "execution_count": 5,
   "metadata": {
    "collapsed": false,
    "deletable": true,
    "editable": true
   },
   "outputs": [
    {
     "data": {
      "text/html": [
       "<div>\n",
       "<table border=\"1\" class=\"dataframe\">\n",
       "  <thead>\n",
       "    <tr style=\"text-align: right;\">\n",
       "      <th></th>\n",
       "      <th>proteinName</th>\n",
       "      <th>levenshteinDistance</th>\n",
       "    </tr>\n",
       "  </thead>\n",
       "  <tbody>\n",
       "    <tr>\n",
       "      <th>376</th>\n",
       "      <td>Homo sapiens</td>\n",
       "      <td>5</td>\n",
       "    </tr>\n",
       "    <tr>\n",
       "      <th>211</th>\n",
       "      <td>Pongo abelii</td>\n",
       "      <td>8</td>\n",
       "    </tr>\n",
       "    <tr>\n",
       "      <th>122</th>\n",
       "      <td>Pan paniscus</td>\n",
       "      <td>10</td>\n",
       "    </tr>\n",
       "    <tr>\n",
       "      <th>232</th>\n",
       "      <td>Nomascus leucogenys</td>\n",
       "      <td>10</td>\n",
       "    </tr>\n",
       "    <tr>\n",
       "      <th>167</th>\n",
       "      <td>Gorilla gorilla gorilla</td>\n",
       "      <td>11</td>\n",
       "    </tr>\n",
       "    <tr>\n",
       "      <th>38</th>\n",
       "      <td>Pan troglodytes</td>\n",
       "      <td>11</td>\n",
       "    </tr>\n",
       "    <tr>\n",
       "      <th>228</th>\n",
       "      <td>Macaca mulatta</td>\n",
       "      <td>12</td>\n",
       "    </tr>\n",
       "    <tr>\n",
       "      <th>203</th>\n",
       "      <td>Mandrillus leucophaeus</td>\n",
       "      <td>14</td>\n",
       "    </tr>\n",
       "    <tr>\n",
       "      <th>119</th>\n",
       "      <td>Macaca fascicularis</td>\n",
       "      <td>14</td>\n",
       "    </tr>\n",
       "    <tr>\n",
       "      <th>260</th>\n",
       "      <td>Macaca nemestrina</td>\n",
       "      <td>14</td>\n",
       "    </tr>\n",
       "  </tbody>\n",
       "</table>\n",
       "</div>"
      ],
      "text/plain": [
       "                 proteinName  levenshteinDistance\n",
       "376             Homo sapiens                    5\n",
       "211             Pongo abelii                    8\n",
       "122             Pan paniscus                   10\n",
       "232      Nomascus leucogenys                   10\n",
       "167  Gorilla gorilla gorilla                   11\n",
       "38           Pan troglodytes                   11\n",
       "228           Macaca mulatta                   12\n",
       "203   Mandrillus leucophaeus                   14\n",
       "119      Macaca fascicularis                   14\n",
       "260        Macaca nemestrina                   14"
      ]
     },
     "execution_count": 5,
     "metadata": {},
     "output_type": "execute_result"
    }
   ],
   "source": [
    "output_k_homologs(seq1, 10)"
   ]
  }
 ],
 "metadata": {
  "kernelspec": {
   "display_name": "Python 3",
   "language": "python",
   "name": "python3"
  },
  "language_info": {
   "codemirror_mode": {
    "name": "ipython",
    "version": 3
   },
   "file_extension": ".py",
   "mimetype": "text/x-python",
   "name": "python",
   "nbconvert_exporter": "python",
   "pygments_lexer": "ipython3",
   "version": "3.5.2"
  }
 },
 "nbformat": 4,
 "nbformat_minor": 2
}
