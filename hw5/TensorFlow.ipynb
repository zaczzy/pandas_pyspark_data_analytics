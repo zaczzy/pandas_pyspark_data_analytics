{
 "cells": [
  {
   "cell_type": "markdown",
   "metadata": {},
   "source": [
    "# Homework 5 Part I: Spam Classification in SciKit-Learn\n",
    "\n",
    "This assignment uses data from https://archive.ics.uci.edu/ml/datasets/SMS+Spam+Collection\n",
    "\n",
    "Data processing was inspired by https://www.kaggle.com/overflow012/d/uciml/sms-spam-collection-dataset/text-preprocessing-classification"
   ]
  },
  {
   "cell_type": "markdown",
   "metadata": {},
   "source": [
    "Before getting started, run this to upgrade SciKit-Learn from 0.17 to 0.18.1.  Then go to Kernel | Restart in Jupyter."
   ]
  },
  {
   "cell_type": "code",
   "execution_count": 1,
   "metadata": {},
   "outputs": [],
   "source": [
    "import pandas as pd\n",
    "\n",
    "####\n",
    "# Helper function:\n",
    "#  Return the k most frequently appearing keywords in the dataframe\n",
    "def top_k(data_df, vec, k):\n",
    "    X = vec.fit_transform(data_df['sms'].values)\n",
    "    labels = vec.get_feature_names()\n",
    "    \n",
    "    return pd.DataFrame(columns = labels, data = X.toarray()).sum().sort_values(ascending = False)[:k]\n",
    "\n",
    "\n",
    "\n",
    "sms_df = pd.read_csv('spam.csv', encoding='latin-1')\n",
    "sms_df.columns = ['class', 'sms', 'a', 'b', 'c']\n"
   ]
  },
  {
   "cell_type": "markdown",
   "metadata": {},
   "source": [
    "## Step 1.1 Data Wrangling\n",
    "\n",
    "Clean up sms_df.  Delete 'a', 'b', 'c', lowercase the sms text"
   ]
  },
  {
   "cell_type": "code",
   "execution_count": 2,
   "metadata": {
    "collapsed": true
   },
   "outputs": [],
   "source": [
    "## Data wrangling / cleaning\n",
    "sms_df = pd.DataFrame(sms_df[['class', 'sms']])\n",
    "sms_df['sms'] = sms_df['sms'].str.lower()"
   ]
  },
  {
   "cell_type": "markdown",
   "metadata": {},
   "source": [
    "### Step 1.1 Results"
   ]
  },
  {
   "cell_type": "code",
   "execution_count": 3,
   "metadata": {},
   "outputs": [
    {
     "data": {
      "text/html": [
       "<div>\n",
       "<table border=\"1\" class=\"dataframe\">\n",
       "  <thead>\n",
       "    <tr style=\"text-align: right;\">\n",
       "      <th></th>\n",
       "      <th>class</th>\n",
       "      <th>sms</th>\n",
       "    </tr>\n",
       "  </thead>\n",
       "  <tbody>\n",
       "    <tr>\n",
       "      <th>0</th>\n",
       "      <td>ham</td>\n",
       "      <td>go until jurong point, crazy.. available only ...</td>\n",
       "    </tr>\n",
       "    <tr>\n",
       "      <th>1</th>\n",
       "      <td>ham</td>\n",
       "      <td>ok lar... joking wif u oni...</td>\n",
       "    </tr>\n",
       "    <tr>\n",
       "      <th>2</th>\n",
       "      <td>spam</td>\n",
       "      <td>free entry in 2 a wkly comp to win fa cup fina...</td>\n",
       "    </tr>\n",
       "    <tr>\n",
       "      <th>3</th>\n",
       "      <td>ham</td>\n",
       "      <td>u dun say so early hor... u c already then say...</td>\n",
       "    </tr>\n",
       "    <tr>\n",
       "      <th>4</th>\n",
       "      <td>ham</td>\n",
       "      <td>nah i don't think he goes to usf, he lives aro...</td>\n",
       "    </tr>\n",
       "    <tr>\n",
       "      <th>5</th>\n",
       "      <td>spam</td>\n",
       "      <td>freemsg hey there darling it's been 3 week's n...</td>\n",
       "    </tr>\n",
       "    <tr>\n",
       "      <th>6</th>\n",
       "      <td>ham</td>\n",
       "      <td>even my brother is not like to speak with me. ...</td>\n",
       "    </tr>\n",
       "    <tr>\n",
       "      <th>7</th>\n",
       "      <td>ham</td>\n",
       "      <td>as per your request 'melle melle (oru minnamin...</td>\n",
       "    </tr>\n",
       "    <tr>\n",
       "      <th>8</th>\n",
       "      <td>spam</td>\n",
       "      <td>winner!! as a valued network customer you have...</td>\n",
       "    </tr>\n",
       "    <tr>\n",
       "      <th>9</th>\n",
       "      <td>spam</td>\n",
       "      <td>had your mobile 11 months or more? u r entitle...</td>\n",
       "    </tr>\n",
       "    <tr>\n",
       "      <th>10</th>\n",
       "      <td>ham</td>\n",
       "      <td>i'm gonna be home soon and i don't want to tal...</td>\n",
       "    </tr>\n",
       "    <tr>\n",
       "      <th>11</th>\n",
       "      <td>spam</td>\n",
       "      <td>six chances to win cash! from 100 to 20,000 po...</td>\n",
       "    </tr>\n",
       "    <tr>\n",
       "      <th>12</th>\n",
       "      <td>spam</td>\n",
       "      <td>urgent! you have won a 1 week free membership ...</td>\n",
       "    </tr>\n",
       "    <tr>\n",
       "      <th>13</th>\n",
       "      <td>ham</td>\n",
       "      <td>i've been searching for the right words to tha...</td>\n",
       "    </tr>\n",
       "    <tr>\n",
       "      <th>14</th>\n",
       "      <td>ham</td>\n",
       "      <td>i have a date on sunday with will!!</td>\n",
       "    </tr>\n",
       "    <tr>\n",
       "      <th>15</th>\n",
       "      <td>spam</td>\n",
       "      <td>xxxmobilemovieclub: to use your credit, click ...</td>\n",
       "    </tr>\n",
       "    <tr>\n",
       "      <th>16</th>\n",
       "      <td>ham</td>\n",
       "      <td>oh k...i'm watching here:)</td>\n",
       "    </tr>\n",
       "    <tr>\n",
       "      <th>17</th>\n",
       "      <td>ham</td>\n",
       "      <td>eh u remember how 2 spell his name... yes i di...</td>\n",
       "    </tr>\n",
       "    <tr>\n",
       "      <th>18</th>\n",
       "      <td>ham</td>\n",
       "      <td>fine if thatåõs the way u feel. thatåõs the wa...</td>\n",
       "    </tr>\n",
       "    <tr>\n",
       "      <th>19</th>\n",
       "      <td>spam</td>\n",
       "      <td>england v macedonia - dont miss the goals/team...</td>\n",
       "    </tr>\n",
       "    <tr>\n",
       "      <th>20</th>\n",
       "      <td>ham</td>\n",
       "      <td>is that seriously how you spell his name?</td>\n",
       "    </tr>\n",
       "    <tr>\n",
       "      <th>21</th>\n",
       "      <td>ham</td>\n",
       "      <td>iû÷m going to try for 2 months ha ha only joking</td>\n",
       "    </tr>\n",
       "    <tr>\n",
       "      <th>22</th>\n",
       "      <td>ham</td>\n",
       "      <td>so ì_ pay first lar... then when is da stock c...</td>\n",
       "    </tr>\n",
       "    <tr>\n",
       "      <th>23</th>\n",
       "      <td>ham</td>\n",
       "      <td>aft i finish my lunch then i go str down lor. ...</td>\n",
       "    </tr>\n",
       "    <tr>\n",
       "      <th>24</th>\n",
       "      <td>ham</td>\n",
       "      <td>ffffffffff. alright no way i can meet up with ...</td>\n",
       "    </tr>\n",
       "    <tr>\n",
       "      <th>25</th>\n",
       "      <td>ham</td>\n",
       "      <td>just forced myself to eat a slice. i'm really ...</td>\n",
       "    </tr>\n",
       "    <tr>\n",
       "      <th>26</th>\n",
       "      <td>ham</td>\n",
       "      <td>lol your always so convincing.</td>\n",
       "    </tr>\n",
       "    <tr>\n",
       "      <th>27</th>\n",
       "      <td>ham</td>\n",
       "      <td>did you catch the bus ? are you frying an egg ...</td>\n",
       "    </tr>\n",
       "    <tr>\n",
       "      <th>28</th>\n",
       "      <td>ham</td>\n",
       "      <td>i'm back &amp;amp; we're packing the car now, i'll...</td>\n",
       "    </tr>\n",
       "    <tr>\n",
       "      <th>29</th>\n",
       "      <td>ham</td>\n",
       "      <td>ahhh. work. i vaguely remember that! what does...</td>\n",
       "    </tr>\n",
       "    <tr>\n",
       "      <th>...</th>\n",
       "      <td>...</td>\n",
       "      <td>...</td>\n",
       "    </tr>\n",
       "    <tr>\n",
       "      <th>5542</th>\n",
       "      <td>ham</td>\n",
       "      <td>armand says get your ass over to epsilon</td>\n",
       "    </tr>\n",
       "    <tr>\n",
       "      <th>5543</th>\n",
       "      <td>ham</td>\n",
       "      <td>u still havent got urself a jacket ah?</td>\n",
       "    </tr>\n",
       "    <tr>\n",
       "      <th>5544</th>\n",
       "      <td>ham</td>\n",
       "      <td>i'm taking derek &amp;amp; taylor to walmart, if i...</td>\n",
       "    </tr>\n",
       "    <tr>\n",
       "      <th>5545</th>\n",
       "      <td>ham</td>\n",
       "      <td>hi its in durban are you still on this number</td>\n",
       "    </tr>\n",
       "    <tr>\n",
       "      <th>5546</th>\n",
       "      <td>ham</td>\n",
       "      <td>ic. there are a lotta childporn cars then.</td>\n",
       "    </tr>\n",
       "    <tr>\n",
       "      <th>5547</th>\n",
       "      <td>spam</td>\n",
       "      <td>had your contract mobile 11 mnths? latest moto...</td>\n",
       "    </tr>\n",
       "    <tr>\n",
       "      <th>5548</th>\n",
       "      <td>ham</td>\n",
       "      <td>no, i was trying it all weekend ;v</td>\n",
       "    </tr>\n",
       "    <tr>\n",
       "      <th>5549</th>\n",
       "      <td>ham</td>\n",
       "      <td>you know, wot people wear. t shirts, jumpers, ...</td>\n",
       "    </tr>\n",
       "    <tr>\n",
       "      <th>5550</th>\n",
       "      <td>ham</td>\n",
       "      <td>cool, what time you think you can get here?</td>\n",
       "    </tr>\n",
       "    <tr>\n",
       "      <th>5551</th>\n",
       "      <td>ham</td>\n",
       "      <td>wen did you get so spiritual and deep. that's ...</td>\n",
       "    </tr>\n",
       "    <tr>\n",
       "      <th>5552</th>\n",
       "      <td>ham</td>\n",
       "      <td>have a safe trip to nigeria. wish you happines...</td>\n",
       "    </tr>\n",
       "    <tr>\n",
       "      <th>5553</th>\n",
       "      <td>ham</td>\n",
       "      <td>hahaha..use your brain dear</td>\n",
       "    </tr>\n",
       "    <tr>\n",
       "      <th>5554</th>\n",
       "      <td>ham</td>\n",
       "      <td>well keep in mind i've only got enough gas for...</td>\n",
       "    </tr>\n",
       "    <tr>\n",
       "      <th>5555</th>\n",
       "      <td>ham</td>\n",
       "      <td>yeh. indians was nice. tho it did kane me off ...</td>\n",
       "    </tr>\n",
       "    <tr>\n",
       "      <th>5556</th>\n",
       "      <td>ham</td>\n",
       "      <td>yes i have. so that's why u texted. pshew...mi...</td>\n",
       "    </tr>\n",
       "    <tr>\n",
       "      <th>5557</th>\n",
       "      <td>ham</td>\n",
       "      <td>no. i meant the calculation is the same. that ...</td>\n",
       "    </tr>\n",
       "    <tr>\n",
       "      <th>5558</th>\n",
       "      <td>ham</td>\n",
       "      <td>sorry, i'll call later</td>\n",
       "    </tr>\n",
       "    <tr>\n",
       "      <th>5559</th>\n",
       "      <td>ham</td>\n",
       "      <td>if you aren't here in the next  &amp;lt;#&amp;gt;  hou...</td>\n",
       "    </tr>\n",
       "    <tr>\n",
       "      <th>5560</th>\n",
       "      <td>ham</td>\n",
       "      <td>anything lor. juz both of us lor.</td>\n",
       "    </tr>\n",
       "    <tr>\n",
       "      <th>5561</th>\n",
       "      <td>ham</td>\n",
       "      <td>get me out of this dump heap. my mom decided t...</td>\n",
       "    </tr>\n",
       "    <tr>\n",
       "      <th>5562</th>\n",
       "      <td>ham</td>\n",
       "      <td>ok lor... sony ericsson salesman... i ask shuh...</td>\n",
       "    </tr>\n",
       "    <tr>\n",
       "      <th>5563</th>\n",
       "      <td>ham</td>\n",
       "      <td>ard 6 like dat lor.</td>\n",
       "    </tr>\n",
       "    <tr>\n",
       "      <th>5564</th>\n",
       "      <td>ham</td>\n",
       "      <td>why don't you wait 'til at least wednesday to ...</td>\n",
       "    </tr>\n",
       "    <tr>\n",
       "      <th>5565</th>\n",
       "      <td>ham</td>\n",
       "      <td>huh y lei...</td>\n",
       "    </tr>\n",
       "    <tr>\n",
       "      <th>5566</th>\n",
       "      <td>spam</td>\n",
       "      <td>reminder from o2: to get 2.50 pounds free call...</td>\n",
       "    </tr>\n",
       "    <tr>\n",
       "      <th>5567</th>\n",
       "      <td>spam</td>\n",
       "      <td>this is the 2nd time we have tried 2 contact u...</td>\n",
       "    </tr>\n",
       "    <tr>\n",
       "      <th>5568</th>\n",
       "      <td>ham</td>\n",
       "      <td>will ì_ b going to esplanade fr home?</td>\n",
       "    </tr>\n",
       "    <tr>\n",
       "      <th>5569</th>\n",
       "      <td>ham</td>\n",
       "      <td>pity, * was in mood for that. so...any other s...</td>\n",
       "    </tr>\n",
       "    <tr>\n",
       "      <th>5570</th>\n",
       "      <td>ham</td>\n",
       "      <td>the guy did some bitching but i acted like i'd...</td>\n",
       "    </tr>\n",
       "    <tr>\n",
       "      <th>5571</th>\n",
       "      <td>ham</td>\n",
       "      <td>rofl. its true to its name</td>\n",
       "    </tr>\n",
       "  </tbody>\n",
       "</table>\n",
       "<p>5572 rows × 2 columns</p>\n",
       "</div>"
      ],
      "text/plain": [
       "     class                                                sms\n",
       "0      ham  go until jurong point, crazy.. available only ...\n",
       "1      ham                      ok lar... joking wif u oni...\n",
       "2     spam  free entry in 2 a wkly comp to win fa cup fina...\n",
       "3      ham  u dun say so early hor... u c already then say...\n",
       "4      ham  nah i don't think he goes to usf, he lives aro...\n",
       "5     spam  freemsg hey there darling it's been 3 week's n...\n",
       "6      ham  even my brother is not like to speak with me. ...\n",
       "7      ham  as per your request 'melle melle (oru minnamin...\n",
       "8     spam  winner!! as a valued network customer you have...\n",
       "9     spam  had your mobile 11 months or more? u r entitle...\n",
       "10     ham  i'm gonna be home soon and i don't want to tal...\n",
       "11    spam  six chances to win cash! from 100 to 20,000 po...\n",
       "12    spam  urgent! you have won a 1 week free membership ...\n",
       "13     ham  i've been searching for the right words to tha...\n",
       "14     ham                i have a date on sunday with will!!\n",
       "15    spam  xxxmobilemovieclub: to use your credit, click ...\n",
       "16     ham                         oh k...i'm watching here:)\n",
       "17     ham  eh u remember how 2 spell his name... yes i di...\n",
       "18     ham  fine if thatåõs the way u feel. thatåõs the wa...\n",
       "19    spam  england v macedonia - dont miss the goals/team...\n",
       "20     ham          is that seriously how you spell his name?\n",
       "21     ham  iû÷m going to try for 2 months ha ha only joking\n",
       "22     ham  so ì_ pay first lar... then when is da stock c...\n",
       "23     ham  aft i finish my lunch then i go str down lor. ...\n",
       "24     ham  ffffffffff. alright no way i can meet up with ...\n",
       "25     ham  just forced myself to eat a slice. i'm really ...\n",
       "26     ham                     lol your always so convincing.\n",
       "27     ham  did you catch the bus ? are you frying an egg ...\n",
       "28     ham  i'm back &amp; we're packing the car now, i'll...\n",
       "29     ham  ahhh. work. i vaguely remember that! what does...\n",
       "...    ...                                                ...\n",
       "5542   ham           armand says get your ass over to epsilon\n",
       "5543   ham             u still havent got urself a jacket ah?\n",
       "5544   ham  i'm taking derek &amp; taylor to walmart, if i...\n",
       "5545   ham      hi its in durban are you still on this number\n",
       "5546   ham         ic. there are a lotta childporn cars then.\n",
       "5547  spam  had your contract mobile 11 mnths? latest moto...\n",
       "5548   ham                 no, i was trying it all weekend ;v\n",
       "5549   ham  you know, wot people wear. t shirts, jumpers, ...\n",
       "5550   ham        cool, what time you think you can get here?\n",
       "5551   ham  wen did you get so spiritual and deep. that's ...\n",
       "5552   ham  have a safe trip to nigeria. wish you happines...\n",
       "5553   ham                        hahaha..use your brain dear\n",
       "5554   ham  well keep in mind i've only got enough gas for...\n",
       "5555   ham  yeh. indians was nice. tho it did kane me off ...\n",
       "5556   ham  yes i have. so that's why u texted. pshew...mi...\n",
       "5557   ham  no. i meant the calculation is the same. that ...\n",
       "5558   ham                             sorry, i'll call later\n",
       "5559   ham  if you aren't here in the next  &lt;#&gt;  hou...\n",
       "5560   ham                  anything lor. juz both of us lor.\n",
       "5561   ham  get me out of this dump heap. my mom decided t...\n",
       "5562   ham  ok lor... sony ericsson salesman... i ask shuh...\n",
       "5563   ham                                ard 6 like dat lor.\n",
       "5564   ham  why don't you wait 'til at least wednesday to ...\n",
       "5565   ham                                       huh y lei...\n",
       "5566  spam  reminder from o2: to get 2.50 pounds free call...\n",
       "5567  spam  this is the 2nd time we have tried 2 contact u...\n",
       "5568   ham              will ì_ b going to esplanade fr home?\n",
       "5569   ham  pity, * was in mood for that. so...any other s...\n",
       "5570   ham  the guy did some bitching but i acted like i'd...\n",
       "5571   ham                         rofl. its true to its name\n",
       "\n",
       "[5572 rows x 2 columns]"
      ]
     },
     "execution_count": 3,
     "metadata": {},
     "output_type": "execute_result"
    }
   ],
   "source": [
    "sms_df"
   ]
  },
  {
   "cell_type": "code",
   "execution_count": 4,
   "metadata": {},
   "outputs": [
    {
     "data": {
      "text/html": [
       "<div>\n",
       "<table border=\"1\" class=\"dataframe\">\n",
       "  <thead>\n",
       "    <tr style=\"text-align: right;\">\n",
       "      <th></th>\n",
       "      <th></th>\n",
       "      <th>sms</th>\n",
       "    </tr>\n",
       "    <tr>\n",
       "      <th>class</th>\n",
       "      <th></th>\n",
       "      <th></th>\n",
       "    </tr>\n",
       "  </thead>\n",
       "  <tbody>\n",
       "    <tr>\n",
       "      <th rowspan=\"4\" valign=\"top\">ham</th>\n",
       "      <th>count</th>\n",
       "      <td>4825</td>\n",
       "    </tr>\n",
       "    <tr>\n",
       "      <th>unique</th>\n",
       "      <td>4515</td>\n",
       "    </tr>\n",
       "    <tr>\n",
       "      <th>top</th>\n",
       "      <td>sorry, i'll call later</td>\n",
       "    </tr>\n",
       "    <tr>\n",
       "      <th>freq</th>\n",
       "      <td>30</td>\n",
       "    </tr>\n",
       "    <tr>\n",
       "      <th rowspan=\"4\" valign=\"top\">spam</th>\n",
       "      <th>count</th>\n",
       "      <td>747</td>\n",
       "    </tr>\n",
       "    <tr>\n",
       "      <th>unique</th>\n",
       "      <td>653</td>\n",
       "    </tr>\n",
       "    <tr>\n",
       "      <th>top</th>\n",
       "      <td>please call our customer service representativ...</td>\n",
       "    </tr>\n",
       "    <tr>\n",
       "      <th>freq</th>\n",
       "      <td>4</td>\n",
       "    </tr>\n",
       "  </tbody>\n",
       "</table>\n",
       "</div>"
      ],
      "text/plain": [
       "                                                            sms\n",
       "class                                                          \n",
       "ham   count                                                4825\n",
       "      unique                                               4515\n",
       "      top                                sorry, i'll call later\n",
       "      freq                                                   30\n",
       "spam  count                                                 747\n",
       "      unique                                                653\n",
       "      top     please call our customer service representativ...\n",
       "      freq                                                    4"
      ]
     },
     "execution_count": 4,
     "metadata": {},
     "output_type": "execute_result"
    }
   ],
   "source": [
    "sms_df.groupby('class').describe()"
   ]
  },
  {
   "cell_type": "markdown",
   "metadata": {},
   "source": [
    "## Step 1.2. Vectorizing the Text"
   ]
  },
  {
   "cell_type": "code",
   "execution_count": 5,
   "metadata": {
    "collapsed": true
   },
   "outputs": [],
   "source": [
    "## Generate feature vectors\n",
    "from sklearn.feature_extraction.text import CountVectorizer\n",
    "vec = CountVectorizer(decode_error = 'ignore', stop_words = 'english')"
   ]
  },
  {
   "cell_type": "markdown",
   "metadata": {},
   "source": [
    "## Let's see the most frequent terms in spam"
   ]
  },
  {
   "cell_type": "code",
   "execution_count": 6,
   "metadata": {},
   "outputs": [
    {
     "data": {
      "text/plain": [
       "free          224\n",
       "txt           163\n",
       "ur            144\n",
       "mobile        127\n",
       "text          125\n",
       "stop          121\n",
       "claim         113\n",
       "reply         104\n",
       "www            98\n",
       "prize          93\n",
       "just           78\n",
       "cash           76\n",
       "won            76\n",
       "uk             74\n",
       "150p           71\n",
       "send           70\n",
       "new            69\n",
       "nokia          67\n",
       "win            64\n",
       "urgent         63\n",
       "tone           60\n",
       "week           60\n",
       "50             57\n",
       "contact        56\n",
       "service        56\n",
       "msg            54\n",
       "com            54\n",
       "18             51\n",
       "16             51\n",
       "guaranteed     50\n",
       "dtype: int64"
      ]
     },
     "execution_count": 6,
     "metadata": {},
     "output_type": "execute_result"
    }
   ],
   "source": [
    "top_spam = top_k(sms_df[sms_df['class'] == 'spam'], vec, 30)\n",
    "\n",
    "top_spam"
   ]
  },
  {
   "cell_type": "markdown",
   "metadata": {},
   "source": [
    "## Vs ham..."
   ]
  },
  {
   "cell_type": "code",
   "execution_count": 7,
   "metadata": {},
   "outputs": [
    {
     "data": {
      "text/plain": [
       "gt       318\n",
       "lt       316\n",
       "just     293\n",
       "ok       287\n",
       "ll       265\n",
       "ur       241\n",
       "know     236\n",
       "good     233\n",
       "got      232\n",
       "like     232\n",
       "come     227\n",
       "day      209\n",
       "time     201\n",
       "love     199\n",
       "going    169\n",
       "home     165\n",
       "want     164\n",
       "lor      162\n",
       "need     158\n",
       "sorry    157\n",
       "don      151\n",
       "da       150\n",
       "today    139\n",
       "later    135\n",
       "dont     132\n",
       "did      129\n",
       "send     129\n",
       "think    128\n",
       "pls      123\n",
       "hi       122\n",
       "dtype: int64"
      ]
     },
     "execution_count": 7,
     "metadata": {},
     "output_type": "execute_result"
    }
   ],
   "source": [
    "top_ham = top_k(sms_df[sms_df['class'] == 'ham'], vec, 30)\n",
    "\n",
    "top_ham"
   ]
  },
  {
   "cell_type": "markdown",
   "metadata": {},
   "source": [
    "## Step 1.2.2 Regularize URLs and Numbers\n",
    "\n",
    "Import _regularize_ here, and use *regularize_urls* and *regularize_numbers*\n",
    "on the columns."
   ]
  },
  {
   "cell_type": "code",
   "execution_count": 8,
   "metadata": {},
   "outputs": [],
   "source": [
    "# Regularize/tokenize URLs and numbers\n",
    "from regularize import regularize_urls, regularize_numbers\n",
    "sms_df['sms'] = regularize_numbers(regularize_urls(sms_df['sms'])) "
   ]
  },
  {
   "cell_type": "markdown",
   "metadata": {},
   "source": [
    "## Step 1.2.2 Results\n",
    "\n",
    "Re-run the CountVectorizer, re-create vector X, and re-compute the top-30 spam terms.  Output the top-30 spam terms."
   ]
  },
  {
   "cell_type": "code",
   "execution_count": 9,
   "metadata": {},
   "outputs": [
    {
     "data": {
      "text/plain": [
       "_num_         3289\n",
       "free           228\n",
       "txt            165\n",
       "ur             144\n",
       "_url_          141\n",
       "mobile         129\n",
       "stop           126\n",
       "text           125\n",
       "claim          113\n",
       "reply          104\n",
       "prize           92\n",
       "just            78\n",
       "won             76\n",
       "cash            76\n",
       "nokia           71\n",
       "send            70\n",
       "win             70\n",
       "new             69\n",
       "urgent          63\n",
       "week            60\n",
       "tone            59\n",
       "box             57\n",
       "msg             56\n",
       "service         56\n",
       "contact         56\n",
       "guaranteed      50\n",
       "ppm             49\n",
       "customer        49\n",
       "mins            47\n",
       "phone           46\n",
       "dtype: int64"
      ]
     },
     "execution_count": 9,
     "metadata": {},
     "output_type": "execute_result"
    }
   ],
   "source": [
    "# Top-30 spam terms\n",
    "top_spam = top_k(sms_df[sms_df['class'] == 'spam'], vec, 30)\n",
    "\n",
    "top_spam"
   ]
  },
  {
   "cell_type": "markdown",
   "metadata": {},
   "source": [
    "## Step 1.3 Creating Features\n",
    "\n",
    "Take the top-30 spam + top-30 ham words, and create a new CountVectorizer,\n",
    "called *relevant_vec*, which _only_ includes those words.\n",
    "See http://scikit-learn.org/stable/modules/generated/sklearn.feature_extraction.text.CountVectorizer.html."
   ]
  },
  {
   "cell_type": "code",
   "execution_count": 10,
   "metadata": {
    "collapsed": true
   },
   "outputs": [],
   "source": [
    "top_spam = top_k(sms_df[sms_df['class'] == 'spam'], vec, 30)\n",
    "import numpy as np\n",
    "top_spam = top_k(sms_df[sms_df['class'] == 'spam'], vec, 30)\n",
    "vocabulary = np.union1d(np.array(top_ham.index),np.array(top_spam.index))"
   ]
  },
  {
   "cell_type": "code",
   "execution_count": 11,
   "metadata": {
    "collapsed": true
   },
   "outputs": [],
   "source": [
    "# Vector of 'important' words\n",
    "relevant_vec = CountVectorizer(decode_error = 'ignore', stop_words = 'english', vocabulary=vocabulary)"
   ]
  },
  {
   "cell_type": "code",
   "execution_count": 12,
   "metadata": {
    "scrolled": true
   },
   "outputs": [
    {
     "data": {
      "text/plain": [
       "array([[ 0.        ,  0.        ,  0.        , ...,  0.        ,\n",
       "         0.        ,  0.09110867],\n",
       "       [ 3.        ,  0.        ,  0.        , ...,  0.        ,\n",
       "         0.        ,  0.16684962],\n",
       "       [ 0.        ,  0.        ,  0.        , ...,  0.        ,\n",
       "         0.        ,  0.05049396],\n",
       "       ..., \n",
       "       [ 0.        ,  0.        ,  0.        , ...,  0.        ,\n",
       "         0.        ,  0.04939627],\n",
       "       [ 0.        ,  0.        ,  0.        , ...,  0.        ,\n",
       "         0.        ,  0.02854007],\n",
       "       [ 0.        ,  0.        ,  0.        , ...,  0.        ,\n",
       "         0.        ,  0.03841932]])"
      ]
     },
     "execution_count": 12,
     "metadata": {},
     "output_type": "execute_result"
    }
   ],
   "source": [
    "import sklearn.model_selection as ms\n",
    "from sklearn.feature_extraction.text import TfidfTransformer\n",
    "import numpy as np\n",
    "\n",
    "# X is the feature array, based off relevant words\n",
    "X = relevant_vec.fit_transform(sms_df['sms'].values).toarray()\n",
    "\n",
    "# Compute the length of each sms message, normalized\n",
    "# by max length\n",
    "Xlen = np.zeros((X.shape[0],1))\n",
    "inx = 0\n",
    "for v in sms_df['sms'].values:\n",
    "        Xlen[inx,0] = len(v)\n",
    "        inx += 1\n",
    "Xlen = Xlen / max(Xlen)\n",
    "# Add the length as another feature\n",
    "X = np.hstack((X, Xlen))\n",
    "\n",
    "to_int = np.vectorize(lambda x: 1 if x == 'ham' else 0)\n",
    "y = to_int(sms_df['class'].values)\n",
    "\n",
    "# Now we split...\n",
    "X_train, X_test, y_train, y_test = ms.train_test_split(X, \n",
    "                                                    y, test_size=0.2, random_state=42)\n",
    "\n",
    "X_train"
   ]
  },
  {
   "cell_type": "code",
   "execution_count": 13,
   "metadata": {},
   "outputs": [
    {
     "data": {
      "text/plain": [
       "array([1, 1, 0, ..., 1, 1, 1])"
      ]
     },
     "execution_count": 13,
     "metadata": {},
     "output_type": "execute_result"
    }
   ],
   "source": [
    "y"
   ]
  },
  {
   "cell_type": "code",
   "execution_count": 14,
   "metadata": {},
   "outputs": [],
   "source": [
    "import tensorflow as tf\n",
    "columns = list(vocabulary)\n",
    "columns.append('length')"
   ]
  },
  {
   "cell_type": "code",
   "execution_count": 15,
   "metadata": {},
   "outputs": [],
   "source": [
    "def input_fn(x, y):\n",
    "    feature_cols = {column: tf.constant(x[:,index], shape=[x.shape[0], 1]) \n",
    "                    for index, column in enumerate(columns)}\n",
    "    label = tf.constant(y)\n",
    "    return feature_cols, label\n",
    "def test_input_fn():\n",
    "    return input_fn(X_test, y_test)\n",
    "def train_input_fn():\n",
    "    return input_fn(X_train, y_train)"
   ]
  },
  {
   "cell_type": "code",
   "execution_count": 16,
   "metadata": {},
   "outputs": [
    {
     "data": {
      "text/plain": [
       "58"
      ]
     },
     "execution_count": 16,
     "metadata": {},
     "output_type": "execute_result"
    }
   ],
   "source": [
    "len(test_input_fn()[0])"
   ]
  },
  {
   "cell_type": "code",
   "execution_count": 24,
   "metadata": {},
   "outputs": [
    {
     "name": "stdout",
     "output_type": "stream",
     "text": [
      "INFO:tensorflow:Using default config.\n",
      "INFO:tensorflow:Using config: {'_task_id': 0, '_model_dir': None, '_evaluation_master': '', '_save_checkpoints_steps': None, '_cluster_spec': <tensorflow.python.training.server_lib.ClusterSpec object at 0x7f578aa96c88>, '_num_worker_replicas': 0, '_tf_random_seed': None, '_tf_config': gpu_options {\n",
      "  per_process_gpu_memory_fraction: 1.0\n",
      "}\n",
      ", '_task_type': None, '_save_checkpoints_secs': 600, '_save_summary_steps': 100, '_is_chief': True, '_master': '', '_keep_checkpoint_every_n_hours': 10000, '_environment': 'local', '_num_ps_replicas': 0, '_keep_checkpoint_max': 5}\n"
     ]
    }
   ],
   "source": [
    "# Create a DNNClassifier with two hidden layers of 5 units each, and run for 1000 steps.  \n",
    "# Create a Markdown Cell saying “Step 4.3.1 Results.” \n",
    "# Run the fit operation over the training data and the evaluate operation over the test data.  \n",
    "# Sort the results of the evaluate operation by key, and output the keys.  \n",
    "# For reference, here is an example of using the DNNClassifier. Note the accuracy.\n",
    "\n",
    "feature_columns = [tf.contrib.layers.real_valued_column(column_name) for column_name in columns] \n",
    "dnn_clf = tf.contrib.learn.DNNClassifier(hidden_units=[5, 5], n_classes=2, feature_columns=feature_columns,\n",
    "                                        model_dir='/tmp/spam_model_dnn')"
   ]
  },
  {
   "cell_type": "markdown",
   "metadata": {},
   "source": [
    "### Step 4.3.1 Results"
   ]
  },
  {
   "cell_type": "code",
   "execution_count": 25,
   "metadata": {},
   "outputs": [
    {
     "name": "stdout",
     "output_type": "stream",
     "text": [
      "WARNING:tensorflow:From /usr/local/lib/python3.5/dist-packages/tensorflow/contrib/learn/python/learn/estimators/head.py:615: scalar_summary (from tensorflow.python.ops.logging_ops) is deprecated and will be removed after 2016-11-30.\n",
      "Instructions for updating:\n",
      "Please switch to tf.summary.scalar. Note that tf.summary.scalar uses the node name instead of the tag. This means that TensorFlow will automatically de-duplicate summary names based on the scope they are created in. Also, passing a tensor or list of tags to a scalar summary op is no longer supported.\n",
      "INFO:tensorflow:Create CheckpointSaverHook.\n",
      "INFO:tensorflow:Saving checkpoints for 1 into /tmp/spam_model_dnn/model.ckpt.\n",
      "INFO:tensorflow:loss = 0.728257, step = 1\n",
      "INFO:tensorflow:global_step/sec: 463.893\n",
      "INFO:tensorflow:loss = 0.26465, step = 101 (0.214 sec)\n",
      "INFO:tensorflow:global_step/sec: 468.31\n",
      "INFO:tensorflow:loss = 0.137327, step = 201 (0.214 sec)\n",
      "INFO:tensorflow:global_step/sec: 479.208\n",
      "INFO:tensorflow:loss = 0.10023, step = 301 (0.209 sec)\n",
      "INFO:tensorflow:global_step/sec: 470.593\n",
      "INFO:tensorflow:loss = 0.0833407, step = 401 (0.213 sec)\n",
      "INFO:tensorflow:global_step/sec: 437.645\n",
      "INFO:tensorflow:loss = 0.0749837, step = 501 (0.228 sec)\n",
      "INFO:tensorflow:global_step/sec: 387.794\n",
      "INFO:tensorflow:loss = 0.0702461, step = 601 (0.258 sec)\n",
      "INFO:tensorflow:global_step/sec: 390.096\n",
      "INFO:tensorflow:loss = 0.0670522, step = 701 (0.256 sec)\n",
      "INFO:tensorflow:global_step/sec: 473.513\n",
      "INFO:tensorflow:loss = 0.0646254, step = 801 (0.211 sec)\n",
      "INFO:tensorflow:global_step/sec: 470.338\n",
      "INFO:tensorflow:loss = 0.062733, step = 901 (0.213 sec)\n",
      "INFO:tensorflow:Saving checkpoints for 1000 into /tmp/spam_model_dnn/model.ckpt.\n",
      "INFO:tensorflow:Loss for final step: 0.0612133.\n",
      "WARNING:tensorflow:From /usr/local/lib/python3.5/dist-packages/tensorflow/contrib/learn/python/learn/estimators/head.py:615: scalar_summary (from tensorflow.python.ops.logging_ops) is deprecated and will be removed after 2016-11-30.\n",
      "Instructions for updating:\n",
      "Please switch to tf.summary.scalar. Note that tf.summary.scalar uses the node name instead of the tag. This means that TensorFlow will automatically de-duplicate summary names based on the scope they are created in. Also, passing a tensor or list of tags to a scalar summary op is no longer supported.\n",
      "INFO:tensorflow:Starting evaluation at 2017-04-15-01:05:14\n",
      "INFO:tensorflow:Restoring parameters from /tmp/spam_model_dnn/model.ckpt-1000\n",
      "INFO:tensorflow:Evaluation [1/1]\n",
      "INFO:tensorflow:Finished evaluation at 2017-04-15-01:05:14\n",
      "INFO:tensorflow:Saving dict for global step 1000: accuracy = 0.975785, accuracy/baseline_label_mean = 0.865471, accuracy/threshold_0.500000_mean = 0.975785, auc = 0.980211, global_step = 1000, labels/actual_label_mean = 0.865471, labels/prediction_mean = 0.867361, loss = 0.075252, precision/positive_threshold_0.500000_mean = 0.98152, recall/positive_threshold_0.500000_mean = 0.990674\n",
      "WARNING:tensorflow:Skipping summary for global_step, must be a float or np.float32.\n"
     ]
    }
   ],
   "source": [
    "dnn_clf.fit(input_fn=train_input_fn, steps=1000)\n",
    "score = dnn_clf.evaluate(input_fn=test_input_fn, steps=1)"
   ]
  },
  {
   "cell_type": "code",
   "execution_count": 26,
   "metadata": {},
   "outputs": [
    {
     "name": "stdout",
     "output_type": "stream",
     "text": [
      "accuracy: 0.975785\n",
      "accuracy/baseline_label_mean: 0.865471\n",
      "accuracy/threshold_0.500000_mean: 0.975785\n",
      "auc: 0.980211\n",
      "global_step: 1000\n",
      "labels/actual_label_mean: 0.865471\n",
      "labels/prediction_mean: 0.867361\n",
      "loss: 0.075252\n",
      "precision/positive_threshold_0.500000_mean: 0.98152\n",
      "recall/positive_threshold_0.500000_mean: 0.990674\n"
     ]
    }
   ],
   "source": [
    "for key in sorted(score):\n",
    "    print('%s: %s' % (key, score[key]))"
   ]
  },
  {
   "cell_type": "code",
   "execution_count": 27,
   "metadata": {},
   "outputs": [
    {
     "name": "stdout",
     "output_type": "stream",
     "text": [
      "INFO:tensorflow:Using default config.\n",
      "INFO:tensorflow:Using config: {'_task_id': 0, '_model_dir': None, '_evaluation_master': '', '_save_checkpoints_steps': None, '_cluster_spec': <tensorflow.python.training.server_lib.ClusterSpec object at 0x7f57e1f30710>, '_num_worker_replicas': 0, '_tf_random_seed': None, '_tf_config': gpu_options {\n",
      "  per_process_gpu_memory_fraction: 1.0\n",
      "}\n",
      ", '_task_type': None, '_save_checkpoints_secs': 600, '_save_summary_steps': 100, '_is_chief': True, '_master': '', '_keep_checkpoint_every_n_hours': 10000, '_environment': 'local', '_num_ps_replicas': 0, '_keep_checkpoint_max': 5}\n"
     ]
    }
   ],
   "source": [
    "lin_clf = tf.contrib.learn.LinearClassifier(feature_columns=feature_columns, model_dir='/tmp/spam_model_linear')"
   ]
  },
  {
   "cell_type": "markdown",
   "metadata": {},
   "source": [
    "### Step 4.3.2 Results"
   ]
  },
  {
   "cell_type": "code",
   "execution_count": 28,
   "metadata": {},
   "outputs": [
    {
     "name": "stdout",
     "output_type": "stream",
     "text": [
      "WARNING:tensorflow:From /usr/local/lib/python3.5/dist-packages/tensorflow/contrib/learn/python/learn/estimators/head.py:615: scalar_summary (from tensorflow.python.ops.logging_ops) is deprecated and will be removed after 2016-11-30.\n",
      "Instructions for updating:\n",
      "Please switch to tf.summary.scalar. Note that tf.summary.scalar uses the node name instead of the tag. This means that TensorFlow will automatically de-duplicate summary names based on the scope they are created in. Also, passing a tensor or list of tags to a scalar summary op is no longer supported.\n",
      "INFO:tensorflow:Create CheckpointSaverHook.\n",
      "INFO:tensorflow:Restoring parameters from /tmp/spam_model_linear/model.ckpt-1000\n",
      "INFO:tensorflow:Saving checkpoints for 1001 into /tmp/spam_model_linear/model.ckpt.\n",
      "INFO:tensorflow:loss = 0.0949926, step = 1001\n",
      "INFO:tensorflow:global_step/sec: 541.108\n",
      "INFO:tensorflow:loss = 0.0927605, step = 1101 (0.184 sec)\n",
      "INFO:tensorflow:global_step/sec: 819.246\n",
      "INFO:tensorflow:loss = 0.0908504, step = 1201 (0.122 sec)\n",
      "INFO:tensorflow:global_step/sec: 798.697\n",
      "INFO:tensorflow:loss = 0.0891962, step = 1301 (0.125 sec)\n",
      "INFO:tensorflow:global_step/sec: 769.566\n",
      "INFO:tensorflow:loss = 0.0877492, step = 1401 (0.130 sec)\n",
      "INFO:tensorflow:global_step/sec: 784.397\n",
      "INFO:tensorflow:loss = 0.0864723, step = 1501 (0.127 sec)\n",
      "INFO:tensorflow:global_step/sec: 793.828\n",
      "INFO:tensorflow:loss = 0.0853368, step = 1601 (0.126 sec)\n",
      "INFO:tensorflow:global_step/sec: 770.968\n",
      "INFO:tensorflow:loss = 0.0843203, step = 1701 (0.130 sec)\n",
      "INFO:tensorflow:global_step/sec: 679.778\n",
      "INFO:tensorflow:loss = 0.0834046, step = 1801 (0.147 sec)\n",
      "INFO:tensorflow:global_step/sec: 711.01\n",
      "INFO:tensorflow:loss = 0.0825753, step = 1901 (0.141 sec)\n",
      "INFO:tensorflow:Saving checkpoints for 2000 into /tmp/spam_model_linear/model.ckpt.\n",
      "INFO:tensorflow:Loss for final step: 0.0818275.\n",
      "WARNING:tensorflow:From /usr/local/lib/python3.5/dist-packages/tensorflow/contrib/learn/python/learn/estimators/head.py:615: scalar_summary (from tensorflow.python.ops.logging_ops) is deprecated and will be removed after 2016-11-30.\n",
      "Instructions for updating:\n",
      "Please switch to tf.summary.scalar. Note that tf.summary.scalar uses the node name instead of the tag. This means that TensorFlow will automatically de-duplicate summary names based on the scope they are created in. Also, passing a tensor or list of tags to a scalar summary op is no longer supported.\n",
      "INFO:tensorflow:Starting evaluation at 2017-04-15-01:05:22\n",
      "INFO:tensorflow:Restoring parameters from /tmp/spam_model_linear/model.ckpt-2000\n",
      "INFO:tensorflow:Evaluation [1/1]\n",
      "INFO:tensorflow:Finished evaluation at 2017-04-15-01:05:23\n",
      "INFO:tensorflow:Saving dict for global step 2000: accuracy = 0.972197, accuracy/baseline_label_mean = 0.865471, accuracy/threshold_0.500000_mean = 0.972197, auc = 0.977969, global_step = 2000, labels/actual_label_mean = 0.865471, labels/prediction_mean = 0.864231, loss = 0.0925379, precision/positive_threshold_0.500000_mean = 0.974594, recall/positive_threshold_0.500000_mean = 0.993782\n",
      "WARNING:tensorflow:Skipping summary for global_step, must be a float or np.float32.\n"
     ]
    }
   ],
   "source": [
    "lin_clf.fit(input_fn=train_input_fn, steps=1000)\n",
    "score = lin_clf.evaluate(input_fn=test_input_fn, steps=1)"
   ]
  },
  {
   "cell_type": "code",
   "execution_count": 29,
   "metadata": {},
   "outputs": [
    {
     "name": "stdout",
     "output_type": "stream",
     "text": [
      "accuracy: 0.972197\n",
      "accuracy/baseline_label_mean: 0.865471\n",
      "accuracy/threshold_0.500000_mean: 0.972197\n",
      "auc: 0.977969\n",
      "global_step: 2000\n",
      "labels/actual_label_mean: 0.865471\n",
      "labels/prediction_mean: 0.864231\n",
      "loss: 0.0925379\n",
      "precision/positive_threshold_0.500000_mean: 0.974594\n",
      "recall/positive_threshold_0.500000_mean: 0.993782\n"
     ]
    }
   ],
   "source": [
    "for key in sorted(score):\n",
    "    print('%s: %s' % (key, score[key]))"
   ]
  },
  {
   "cell_type": "code",
   "execution_count": null,
   "metadata": {
    "collapsed": true
   },
   "outputs": [],
   "source": []
  }
 ],
 "metadata": {
  "kernelspec": {
   "display_name": "Python 3",
   "language": "python",
   "name": "python3"
  },
  "language_info": {
   "codemirror_mode": {
    "name": "ipython",
    "version": 3
   },
   "file_extension": ".py",
   "mimetype": "text/x-python",
   "name": "python",
   "nbconvert_exporter": "python",
   "pygments_lexer": "ipython3",
   "version": "3.5.2"
  }
 },
 "nbformat": 4,
 "nbformat_minor": 1
}
